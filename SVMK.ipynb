{
  "nbformat": 4,
  "nbformat_minor": 0,
  "metadata": {
    "colab": {
      "provenance": []
    },
    "kernelspec": {
      "name": "python3",
      "display_name": "Python 3"
    },
    "language_info": {
      "name": "python"
    }
  },
  "cells": [
    {
      "cell_type": "markdown",
      "source": [
        "1. What is a Support Vector Machine (SVM)?\n",
        "   \n",
        "\n",
        "A Support Vector Machine (SVM) is a supervised machine learning algorithm primarily used for classification tasks, although it can also be adapted for regression. The main idea behind SVM is to find the optimal hyperplane that separates data points of different classes in a high-dimensional space. The hyperplane is chosen to maximize the margin, which is the distance between the hyperplane and the nearest data points from each class, known as support vectors.    \n",
        "\n",
        "SVM can handle both linear and non-linear classification problems by using different kernel functions to transform the input space.    \n",
        "\n",
        "2. What is the difference between Hard Margin and Soft Margin SVM?\n",
        "   \n",
        "\n",
        "Hard Margin SVM: This approach assumes that the data is linearly separable and aims to find a hyperplane that perfectly separates the classes without any misclassifications. It requires that all data points lie on the correct side of the margin. Hard Margin SVM is sensitive to outliers, as even a single misclassified point can prevent the model from finding a solution.    \n",
        "\n",
        "Soft Margin SVM: This approach allows for some misclassifications by introducing a penalty for points that fall within the margin or on the wrong side of the hyperplane. Soft Margin SVM is more flexible and robust to outliers, as it seeks to balance maximizing the margin while minimizing classification errors. The trade-off between margin width and misclassification is controlled by a parameter $ C $.    \n",
        "\n",
        "3. What is the mathematical intuition behind SVM?\n",
        "   \n",
        "\n",
        "The mathematical intuition behind SVM involves the following concepts:    \n",
        "\n",
        "Hyperplane: In an $ n $-dimensional space, a hyperplane can be defined as:    \n",
        "\n",
        "$$ w^T x + b = 0 $$    \n",
        "\n",
        "where \\$ w \\$ is the weight vector, \\$ x \\$ is the input feature vector, and \\$ b \\$ is the bias term.    \n",
        "\n",
        "Margin: The margin is defined as the distance between the hyperplane and the nearest data points from each class. The goal of SVM is to maximize this margin.    \n",
        "\n",
        "Optimization Problem: The optimization problem can be formulated as:    \n",
        "\n",
        "$$ \\text{minimize} \\quad \\frac{1}{2} |w|^2 $$    \n",
        "\n",
        "subject to the constraints:    \n",
        "\n",
        "$$ y_i (w^T x_i + b) \\geq 1 \\quad \\forall i $$    \n",
        "\n",
        "where \\$ y_i \\$ is the class label of the \\$ i \\$-th data point.    \n",
        "\n",
        "Lagrange Multipliers: The optimization problem can be solved using Lagrange multipliers, which allows the incorporation of constraints into the optimization process.    \n",
        "\n",
        "4. What is the role of Lagrange Multipliers in SVM?\n",
        "   \n",
        "\n",
        "Lagrange multipliers are used in SVM to transform the constrained optimization problem into an unconstrained one. By introducing Lagrange multipliers \\$ \\alpha_i \\$ for each constraint, the optimization problem can be reformulated as:    \n",
        "\n",
        "$$ L(w, b, \\alpha) = \\frac{1}{2} |w|^2 - \\sum_{i=1}^{m} \\alpha_i [y_i (w^T x_i + b) - 1] $$    \n",
        "\n",
        "where \\$ m \\$ is the number of training samples.    \n",
        "\n",
        "The Lagrange multipliers \\$ \\alpha_i \\$ allow the algorithm to find the optimal weights \\$ w \\$ and bias \\$ b \\$ while satisfying the constraints. The values of \\$ \\alpha_i \\$ indicate the importance of each training sample in defining the optimal hyperplane. Specifically, only the support vectors will have non-zero \\$ \\alpha_i \\$.    \n",
        "\n",
        "5. What are Support Vectors in SVM?\n",
        "   \n",
        "\n",
        "Support Vectors are the data points that lie closest to the decision boundary (hyperplane) in SVM. These points are critical in defining the position and orientation of the hyperplane. The SVM model is primarily influenced by these support vectors, as they determine the margin.    \n",
        "\n",
        "In the context of the optimization problem, only the support vectors will have non-zero Lagrange multipliers \\$ \\alpha_i \\$. Points that are not support vectors do not affect the position of the hyperplane and can be ignored in the model.    \n",
        "\n",
        "6. What is a Support Vector Classifier (SVC)?\n",
        "   \n",
        "\n",
        "A Support Vector Classifier (SVC) is a specific implementation of the SVM algorithm for classification tasks. It aims to find the optimal hyperplane that separates different classes in the feature space. SVC can handle both linear and non-linear classification problems by using different kernel functions.    \n",
        "\n",
        "The SVC model is trained on labeled data, and once trained, it can classify new, unseen data points based on their position relative to the hyperplane. The SVC implementation in libraries like scikit-learn provides various options for kernel functions, regularization parameters, and other hyperparameters.    \n",
        "\n",
        "7. What is a Support Vector Regressor (SVR)?\n",
        "   \n",
        "\n",
        "A Support Vector Regressor (SVR) is a variant of SVM used for regression tasks. Instead of finding a hyperplane that separates classes, SVR aims to find a function that approximates the target values while maintaining a specified margin of tolerance (epsilon) around the predicted values.    \n",
        "\n",
        "The key concepts in SVR include:    \n",
        "\n",
        "Epsilon Tube: SVR defines a margin of tolerance (epsilon) around the predicted values. The goal is to fit as many data points as possible within this tube while minimizing the complexity of the model.    \n",
        "\n",
        "Loss Function: The loss function used in SVR is the epsilon-insensitive loss, which ignores errors within the epsilon margin and penalizes errors outside this margin.    \n",
        "\n",
        "Optimization Problem: Similar to SVC, SVR can be formulated as an optimization problem that minimizes the model complexity while ensuring that the predictions fall within the epsilon tube.    \n",
        "\n",
        "8. What is the Kernel Trick in SVM?\n",
        "   \n",
        "\n",
        "The Kernel Trick is a technique used in SVM to enable the algorithm to operate in a high-dimensional feature space without explicitly computing the coordinates of the data in that space. Instead of transforming the data points into a higher-dimensional space, the kernel trick allows the SVM to compute the inner products of the data points in the original space.    \n",
        "\n",
        "Common kernel functions include:    \n",
        "\n",
        "Linear Kernel: $ K(x_i, x_j) = x_i^T x_j $\n",
        "Polynomial Kernel: $ K(x_i, x_j) = (x_i^T x_j + c)^d $\n",
        "Radial Basis Function (RBF) Kernel: $ K(x_i, x_j) = e^{-\\gamma |x_i - x_j|^2} $    \n",
        "By using kernel functions, SVM can effectively handle non-linear classification problems while maintaining computational efficiency.    \n",
        "\n",
        "9. Compare Linear Kernel, Polynomial Kernel, and RBF Kernel.\n",
        "   \n",
        "\n",
        "Linear Kernel:\n",
        "\n",
        "Formula: $ K(x_i, x_j) = x_i^T x_j $\n",
        "Use Case: Suitable for linearly separable data. It is computationally efficient and does not require additional parameters.\n",
        "Complexity: Low, as it operates in the original feature space.    \n",
        "Polynomial Kernel:\n",
        "\n",
        "Formula: $ K(x_i, x_j) = (x_i^T x_j + c)^d $\n",
        "Use Case: Suitable for data that can be separated by polynomial decision boundaries. The degree $ d $ and constant $ c $ are hyperparameters.\n",
        "Complexity: Higher than linear, as it can create more complex decision boundaries.    \n",
        "RBF Kernel:\n",
        "\n",
        "Formula: $ K(x_i, x_j) = e^{-\\gamma |x_i - x_j|^2} $\n",
        "Use Case: Suitable for non-linear data. The parameter $ \\gamma $ controls the width of the Gaussian function, allowing for flexible decision boundaries.\n",
        "Complexity: High, as it can create very complex decision boundaries and is sensitive to the choice of $ \\gamma $.    \n",
        "10. What is the effect of the C parameter in SVM?\n",
        "   \n",
        "\n",
        "The \\$ C \\$ parameter in SVM controls the trade-off between maximizing the margin and minimizing classification errors. It acts as a regularization parameter:    \n",
        "\n",
        "Large $ C $: A larger value of $ C $ places more emphasis on minimizing classification errors, leading to a narrower margin. This can result in a more complex model that may overfit the training data.    \n",
        "\n",
        "Small $ C $: A smaller value of $ C $ allows for a wider margin, accepting some misclassifications. This can lead to a simpler model that may generalize better to unseen data.    \n",
        "\n",
        "Choosing the right value for \\$ C \\$ is crucial for achieving a balance between bias and variance in the model.    \n",
        "\n",
        "11. What is the role of the Gamma parameter in RBF Kernel SVM?\n",
        "   \n",
        "\n",
        "The \\$ \\gamma \\$ parameter in RBF Kernel SVM controls the influence of individual training samples on the decision boundary. It determines the width of the Gaussian function used in the RBF kernel:    \n",
        "\n",
        "Large $ \\gamma $: A larger value of $ \\gamma $ means that the influence of each training sample is limited to a smaller region. This can lead to a more complex decision boundary that may fit the training data closely, potentially resulting in overfitting.    \n",
        "\n",
        "Small $ \\gamma $: A smaller value of $ \\gamma $ means that the influence of each training sample extends over a larger region. This can lead to a smoother decision boundary that may generalize better to unseen data.    \n",
        "\n",
        "The choice of \\$ \\gamma \\$ is important for controlling the model's complexity and ensuring good performance on the validation set.    \n",
        "\n",
        "12. What is the Naive Bayes classifier, and why is it called \"Naïve\"?\n",
        "   \n",
        "\n",
        "The Naive Bayes classifier is a family of probabilistic algorithms based on Bayes' theorem, used for classification tasks. It assumes that the features are conditionally independent given the class label, which is a strong and often unrealistic assumption. This assumption of independence is why it is referred to as \"naive.\"    \n",
        "\n",
        "The Naive Bayes classifier calculates the posterior probability of each class given the input features and selects the class with the highest probability as the predicted class:    \n",
        "\n",
        "$$ P(Y|X) = \\frac{P(X|Y) P(Y)}{P(X)} $$    \n",
        "\n",
        "where:\n",
        "\n",
        "$ P(Y|X) $ is the posterior probability of class $ Y $ given features $ X $.\n",
        "$ P(X|Y) $ is the likelihood of features $ X $ given class $ Y $.\n",
        "$ P(Y) $ is the prior probability of class $ Y $.\n",
        "$ P(X) $ is the evidence (normalizing constant).    \n",
        "13. What is Bayes' Theorem?\n",
        "   \n",
        "\n",
        "Bayes' Theorem describes the relationship between conditional probabilities and provides a way to update the probability of a hypothesis based on new evidence. The theorem is mathematically expressed as:    \n",
        "\n",
        "$$ P(A|B) = \\frac{P(B|A) P(A)}{P(B)} $$    \n",
        "\n",
        "where:\n",
        "\n",
        "$ P(A|B) $ is the posterior probability of event $ A $ given event $ B $.\n",
        "$ P(B|A) $ is the likelihood of event $ B $ given event $ A $.\n",
        "$ P(A) $ is the prior probability of event $ A $.\n",
        "$ P(B) $ is the marginal probability of event $ B $.    \n",
        "In the context of Naive Bayes, Bayes' Theorem is used to compute the posterior probabilities of classes based on the observed features.    \n",
        "\n",
        "14. Explain the differences between Gaussian Naive Bayes, Multinomial Naive Bayes, and Bernoulli Naive Bayes.\n",
        "   \n",
        "\n",
        "Gaussian Naive Bayes:\n",
        "\n",
        "Assumes that the features follow a Gaussian (normal) distribution.\n",
        "Suitable for continuous features.\n",
        "The likelihood is calculated using the mean and variance of the features for each class.    \n",
        "Multinomial Naive Bayes:\n",
        "\n",
        "Assumes that the features represent counts or frequencies (e.g., word counts in text classification).\n",
        "Suitable for discrete features, particularly in text classification tasks.\n",
        "The likelihood is calculated based on the multinomial distribution.    \n",
        "Bernoulli Naive Bayes:\n",
        "\n",
        "Assumes that the features are binary (0 or 1).\n",
        "Suitable for binary features, where the presence or absence of a feature is considered.\n",
        "The likelihood is calculated based on the Bernoulli distribution.    \n",
        "15. When should you use Gaussian Naïve Bayes over other variants?\n",
        "   \n",
        "\n",
        "Gaussian Naive Bayes should be used when:    \n",
        "\n",
        "Continuous Features: The dataset contains continuous features that are expected to follow a Gaussian distribution. This is common in many real-world datasets.    \n",
        "\n",
        "Simplicity: Gaussian Naive Bayes is simple to implement and computationally efficient, making it a good choice for quick baseline models.    \n",
        "\n",
        "Independence Assumption: The assumption of feature independence holds reasonably well, or the model's performance is acceptable despite this assumption.    \n",
        "\n",
        "Text Classification: In some cases, Gaussian Naive Bayes can be used for text classification when the features are represented as continuous values (e.g., TF-IDF scores).    \n",
        "\n",
        "16. What are the key assumptions made by Naive Bayes?\n",
        "   \n",
        "\n",
        "Naive Bayes makes several key assumptions:    \n",
        "\n",
        "Conditional Independence: The features are assumed to be conditionally independent given the class label. This means that the presence of one feature does not affect the presence of another feature within the same class.    \n",
        "\n",
        "Feature Distribution: Different variants of Naive Bayes assume different distributions for the features:\n",
        "\n",
        "Gaussian Naive Bayes assumes a Gaussian distribution for continuous features.\n",
        "Multinomial Naive Bayes assumes a multinomial distribution for count data.\n",
        "Bernoulli Naive Bayes assumes a Bernoulli distribution for binary features.    \n",
        "Prior Probability: The prior probabilities of the classes are assumed to be known or can be estimated from the training data.    \n",
        "\n",
        "17. What are the advantages and disadvantages of Naive Bayes?\n",
        "   \n",
        "\n",
        "Advantages:\n",
        "\n",
        "Simplicity: Naive Bayes is easy to implement and understand, making it a good choice for beginners.\n",
        "Efficiency: It is computationally efficient, requiring less training time compared to more complex models.\n",
        "Scalability: It scales well with large datasets and can handle high-dimensional data effectively.\n",
        "Good Performance: Despite its strong assumptions, Naive Bayes often performs surprisingly well in practice, especially for text classification tasks.    \n",
        "Disadvantages:\n",
        "\n",
        "Independence Assumption: The assumption of conditional independence may not hold in real-world data, leading to suboptimal performance.\n",
        "Zero Probability Problem: If a feature value is not present in the training data for a particular class, it can lead to zero probabilities in the likelihood calculation. This can be mitigated using techniques like Laplace smoothing.\n",
        "Limited Expressiveness: Naive Bayes may struggle with complex relationships between features, as it does not capture interactions between them.    \n",
        "18. Why is Naïve Bayes a good choice for text classification?\n",
        "   \n",
        "\n",
        "Naive Bayes is a good choice for text classification due to several reasons:    \n",
        "\n",
        "High Dimensionality: Text data often has a large number of features (e.g., words), and Naive Bayes can handle high-dimensional data efficiently.    \n",
        "\n",
        "Independence Assumption: In many text classification tasks, the assumption of conditional independence among words can be a reasonable approximation, leading to effective classification.    \n",
        "\n",
        "Speed: Naive Bayes is computationally efficient, making it suitable for large text datasets and real-time applications.    \n",
        "\n",
        "Robustness: It performs well even with limited training data and can provide good baseline performance for text classification tasks.    \n",
        "\n",
        "Interpretability: The model is easy to interpret, as it provides insights into the contribution of each feature (word) to the classification decision.    \n",
        "\n",
        "19. Compare SVM and Naive Bayes for classification tasks.\n",
        "   \n",
        "\n",
        "Model Type:\n",
        "\n",
        "SVM is a discriminative model that focuses on finding the optimal decision boundary between classes.\n",
        "Naive Bayes is a generative model that estimates the joint probability of features and class labels.    \n",
        "Assumptions:\n",
        "\n",
        "SVM does not make strong assumptions about the distribution of the data, while Naive Bayes assumes conditional independence among features.    \n",
        "Performance:\n",
        "\n",
        "SVM often performs better on complex datasets with non-linear decision boundaries, while Naive Bayes can perform well on simpler datasets or when the independence assumption holds.    \n",
        "Computational Efficiency:\n",
        "\n",
        "Naive Bayes is generally faster to train and predict, especially on large datasets, while SVM can be computationally intensive, particularly with non-linear kernels.    \n",
        "Robustness:\n",
        "\n",
        "SVM is more robust to outliers and can handle imbalanced datasets better than Naive Bayes.    \n",
        "20. How does Laplace Smoothing help in Naïve Bayes?\n",
        "   \n",
        "\n",
        "Laplace Smoothing (also known as additive smoothing) is a technique used in Naive Bayes to address the zero probability problem. It helps to ensure that no feature value leads to a zero probability in the likelihood calculation, which can occur if a feature value is not present in the training data for a particular class.    \n",
        "\n",
        "The formula for Laplace Smoothing is:    \n",
        "\n",
        "$$ P(X_i | Y) = \\frac{N_{i,j} + 1}{N_j + V} $$    \n",
        "\n",
        "where:\n",
        "\n",
        "$ N_{i,j} $ is the count of feature $ i $ given class $ Y $.\n",
        "$ N_j $ is the total count of all features given class $ Y $.\n",
        "$ V $ is the number of unique feature values (vocabulary size).    \n",
        "By adding 1 to the numerator and \\$ V \\$ to the denominator, Laplace Smoothing ensures that all probabilities are non-zero, allowing the model to make predictions even when encountering unseen feature values during inference.    "
      ],
      "metadata": {
        "id": "s4owNY8GSBY-"
      }
    },
    {
      "cell_type": "code",
      "source": [
        "#21  Write a Python program to train an SVM Classifier on the Iris dataset and evaluate accuracy\n",
        "from sklearn import datasets\n",
        "from sklearn.model_selection import train_test_split\n",
        "from sklearn.svm import SVC\n",
        "from sklearn.metrics import accuracy_score\n",
        "\n",
        "# Load Iris dataset\n",
        "iris = datasets.load_iris()\n",
        "X, y = iris.data, iris.target\n",
        "\n",
        "# Train/test split\n",
        "X_train, X_test, y_train, y_test = train_test_split(X, y, test_size=0.2, random_state=42)\n",
        "\n",
        "# Train SVM classifier\n",
        "model = SVC(kernel='linear')\n",
        "model.fit(X_train, y_train)\n",
        "\n",
        "# Predict and evaluate\n",
        "y_pred = model.predict(X_test)\n",
        "print(\"Iris SVM Accuracy:\", accuracy_score(y_test, y_pred))\n"
      ],
      "metadata": {
        "colab": {
          "base_uri": "https://localhost:8080/"
        },
        "id": "Uzv9f77gSHeK",
        "outputId": "7bbef155-4682-4ad2-b0fc-94c61b16535e"
      },
      "execution_count": 3,
      "outputs": [
        {
          "output_type": "stream",
          "name": "stdout",
          "text": [
            "Iris SVM Accuracy: 1.0\n"
          ]
        }
      ]
    },
    {
      "cell_type": "code",
      "source": [
        "#22 Write a Python program to train two SVM classifiers with Linear and RBF kernels on the Wine dataset, then\n",
        "#compare their accuracies\n",
        "from sklearn.datasets import load_wine\n",
        "from sklearn.model_selection import train_test_split\n",
        "from sklearn.svm import SVC\n",
        "from sklearn.metrics import accuracy_score\n",
        "\n",
        "wine = load_wine()\n",
        "X, y = wine.data, wine.target\n",
        "X_train, X_test, y_train, y_test = train_test_split(X, y, test_size=0.2, random_state=42)\n",
        "\n",
        "# Linear Kernel\n",
        "clf_linear = SVC(kernel='linear')\n",
        "clf_linear.fit(X_train, y_train)\n",
        "acc_linear = accuracy_score(y_test, clf_linear.predict(X_test))\n",
        "\n",
        "# RBF Kernel\n",
        "clf_rbf = SVC(kernel='rbf')\n",
        "clf_rbf.fit(X_train, y_train)\n",
        "acc_rbf = accuracy_score(y_test, clf_rbf.predict(X_test))\n",
        "\n",
        "print(\"Wine SVM Linear Accuracy:\", acc_linear)\n",
        "print(\"Wine SVM RBF Accuracy:\", acc_rbf)\n"
      ],
      "metadata": {
        "colab": {
          "base_uri": "https://localhost:8080/"
        },
        "id": "ClSFcO-OS7x9",
        "outputId": "7eb21d6d-cdb5-4c6b-fe32-19198520de9d"
      },
      "execution_count": 4,
      "outputs": [
        {
          "output_type": "stream",
          "name": "stdout",
          "text": [
            "Wine SVM Linear Accuracy: 1.0\n",
            "Wine SVM RBF Accuracy: 0.8055555555555556\n"
          ]
        }
      ]
    },
    {
      "cell_type": "code",
      "source": [
        "#23  Write a Python program to train an SVM Regressor (SVR) on a housing dataset and evaluate it using Mean\n",
        "#Squared Error (MSE):\n",
        "from sklearn.datasets import fetch_california_housing\n",
        "from sklearn.model_selection import train_test_split\n",
        "from sklearn.svm import SVR\n",
        "from sklearn.metrics import mean_squared_error\n",
        "\n",
        "housing = fetch_california_housing()\n",
        "X, y = housing.data, housing.target\n",
        "X_train, X_test, y_train, y_test = train_test_split(X, y, test_size=0.2, random_state=42)\n",
        "\n",
        "# Train SVR\n",
        "svr = SVR(kernel='rbf')\n",
        "svr.fit(X_train, y_train)\n",
        "\n",
        "# Predict and evaluate\n",
        "y_pred = svr.predict(X_test)\n",
        "mse = mean_squared_error(y_test, y_pred)\n",
        "print(\"Housing SVR Mean Squared Error:\", mse)\n"
      ],
      "metadata": {
        "colab": {
          "base_uri": "https://localhost:8080/"
        },
        "id": "9yHy27jLTJFC",
        "outputId": "64f24e06-acf4-45b6-f6ae-7f1376c841c1"
      },
      "execution_count": 5,
      "outputs": [
        {
          "output_type": "stream",
          "name": "stdout",
          "text": [
            "Housing SVR Mean Squared Error: 1.3320115421348744\n"
          ]
        }
      ]
    },
    {
      "cell_type": "code",
      "source": [
        "#24  Write a Python program to train an SVM Classifier with a Polynomial Kernel and visualize the decision\n",
        "#boundary\n",
        "import matplotlib.pyplot as plt\n",
        "from sklearn.datasets import make_classification\n",
        "from sklearn.svm import SVC\n",
        "import numpy as np\n",
        "\n",
        "# Generate 2D data for visualization\n",
        "X, y = make_classification(n_samples=100, n_features=2, n_redundant=0, n_informative=2,\n",
        "                           n_clusters_per_class=1, random_state=42)\n",
        "\n",
        "clf = SVC(kernel='poly', degree=3, C=1.0)\n",
        "clf.fit(X, y)\n",
        "\n",
        "# Plot decision boundary\n",
        "def plot_decision_boundary(clf, X, y):\n",
        "    h = .02\n",
        "    x_min, x_max = X[:, 0].min() - 1, X[:, 0].max() + 1\n",
        "    y_min, y_max = X[:, 1].min() - 1, X[:, 1].max() + 1\n",
        "    xx, yy = np.meshgrid(np.arange(x_min, x_max, h),\n",
        "                         np.arange(y_min, y_max, h))\n",
        "    Z = clf.predict(np.c_[xx.ravel(), yy.ravel()])\n",
        "    Z = Z.reshape(xx.shape)\n",
        "    plt.contourf(xx, yy, Z, alpha=0.8)\n",
        "    plt.scatter(X[:, 0], X[:, 1], c=y, edgecolors='k')\n",
        "    plt.title(\"Polynomial SVM Decision Boundary\")\n",
        "    plt.show()\n",
        "\n",
        "plot_decision_boundary(clf, X, y)\n"
      ],
      "metadata": {
        "colab": {
          "base_uri": "https://localhost:8080/",
          "height": 452
        },
        "id": "DMZx8tKeTWww",
        "outputId": "e8ac15b6-009f-4324-8656-b95bebafdd41"
      },
      "execution_count": 6,
      "outputs": [
        {
          "output_type": "display_data",
          "data": {
            "text/plain": [
              "<Figure size 640x480 with 1 Axes>"
            ],
            "image/png": "[encoded data removed]"
          },
          "metadata": {}
        }
      ]
    },
    {
      "cell_type": "code",
      "source": [
        "#25 Write a Python program to train a Gaussian Naïve Bayes classifier on the Breast Cancer dataset and\n",
        "#evaluate accuracy\n",
        "from sklearn.datasets import load_breast_cancer\n",
        "from sklearn.model_selection import train_test_split\n",
        "from sklearn.naive_bayes import GaussianNB\n",
        "from sklearn.metrics import accuracy_score\n",
        "\n",
        "data = load_breast_cancer()\n",
        "X, y = data.data, data.target\n",
        "X_train, X_test, y_train, y_test = train_test_split(X, y, test_size=0.2, random_state=42)\n",
        "\n",
        "model = GaussianNB()\n",
        "model.fit(X_train, y_train)\n",
        "y_pred = model.predict(X_test)\n",
        "\n",
        "print(\"Breast Cancer GNB Accuracy:\", accuracy_score(y_test, y_pred))\n"
      ],
      "metadata": {
        "colab": {
          "base_uri": "https://localhost:8080/"
        },
        "id": "_QH38nHkTezw",
        "outputId": "58a10af3-6836-4392-a92c-7f7ddae8ba93"
      },
      "execution_count": 7,
      "outputs": [
        {
          "output_type": "stream",
          "name": "stdout",
          "text": [
            "Breast Cancer GNB Accuracy: 0.9736842105263158\n"
          ]
        }
      ]
    },
    {
      "cell_type": "code",
      "source": [
        "#26 Write a Python program to train a Multinomial Naïve Bayes classifier for text classification using the 20\n",
        "#Newsgroups dataset\n",
        "from sklearn.datasets import fetch_20newsgroups\n",
        "from sklearn.feature_extraction.text import CountVectorizer\n",
        "from sklearn.naive_bayes import MultinomialNB\n",
        "from sklearn.pipeline import make_pipeline\n",
        "from sklearn.model_selection import train_test_split\n",
        "from sklearn.metrics import accuracy_score\n",
        "\n",
        "categories = ['alt.atheism', 'sci.space', 'rec.sport.baseball', 'comp.graphics']\n",
        "data = fetch_20newsgroups(subset='train', categories=categories)\n",
        "X_train, X_test, y_train, y_test = train_test_split(data.data, data.target, test_size=0.2, random_state=42)\n",
        "\n",
        "model = make_pipeline(CountVectorizer(), MultinomialNB())\n",
        "model.fit(X_train, y_train)\n",
        "y_pred = model.predict(X_test)\n",
        "\n",
        "print(\"20 Newsgroups MultinomialNB Accuracy:\", accuracy_score(y_test, y_pred))\n"
      ],
      "metadata": {
        "colab": {
          "base_uri": "https://localhost:8080/"
        },
        "id": "bdMj4WBsTott",
        "outputId": "b3bccef6-55cb-4fec-b0db-c9419a60d2d4"
      },
      "execution_count": 8,
      "outputs": [
        {
          "output_type": "stream",
          "name": "stdout",
          "text": [
            "20 Newsgroups MultinomialNB Accuracy: 0.9733924611973392\n"
          ]
        }
      ]
    },
    {
      "cell_type": "code",
      "source": [
        "#27 Write a Python program to train an SVM Classifier with different C values and compare the decision\n",
        "#boundaries visually=\n",
        "import numpy as np\n",
        "import matplotlib.pyplot as plt\n",
        "from sklearn.datasets import make_classification\n",
        "from sklearn.svm import SVC\n",
        "\n",
        "X, y = make_classification(n_samples=100, n_features=2, n_redundant=0,\n",
        "                           n_clusters_per_class=1, random_state=42)\n",
        "\n",
        "C_values = [0.01, 0.1, 1, 10]\n",
        "\n",
        "plt.figure(figsize=(12, 8))\n",
        "for i, C in enumerate(C_values, 1):\n",
        "    model = SVC(C=C, kernel='linear')\n",
        "    model.fit(X, y)\n",
        "\n",
        "    plt.subplot(2, 2, i)\n",
        "    x_min, x_max = X[:, 0].min() - 1, X[:, 0].max() + 1\n",
        "    y_min, y_max = X[:, 1].min() - 1, X[:, 1].max() + 1\n",
        "    xx, yy = np.meshgrid(np.linspace(x_min, x_max, 200),\n",
        "                         np.linspace(y_min, y_max, 200))\n",
        "    Z = model.predict(np.c_[xx.ravel(), yy.ravel()]).reshape(xx.shape)\n",
        "\n",
        "    plt.contourf(xx, yy, Z, alpha=0.3)\n",
        "    plt.scatter(X[:, 0], X[:, 1], c=y, edgecolors='k')\n",
        "    plt.title(f\"SVM with C={C}\")\n",
        "\n",
        "plt.tight_layout()\n",
        "plt.show()\n"
      ],
      "metadata": {
        "colab": {
          "base_uri": "https://localhost:8080/",
          "height": 445
        },
        "id": "P2EOTBp6T4A5",
        "outputId": "adf5d60f-fad7-4c29-aa90-447eaa578d66"
      },
      "execution_count": 9,
      "outputs": [
        {
          "output_type": "display_data",
          "data": {
            "text/plain": [
              "<Figure size 1200x800 with 4 Axes>"
            ],
            "image/png": "[encoded data removed]"
          },
          "metadata": {}
        }
      ]
    },
    {
      "cell_type": "code",
      "source": [
        "#28  Write a Python program to train a Bernoulli Naïve Bayes classifier for binary classification on a dataset with\n",
        "#binary features\n",
        "from sklearn.naive_bayes import BernoulliNB\n",
        "from sklearn.model_selection import train_test_split\n",
        "from sklearn.metrics import accuracy_score\n",
        "from sklearn.datasets import make_classification\n",
        "\n",
        "# Create binary dataset\n",
        "X, y = make_classification(n_samples=1000, n_features=20, n_classes=2,\n",
        "                           n_informative=5, random_state=42)\n",
        "X_binary = (X > 0).astype(int)  # binarize features\n",
        "\n",
        "X_train, X_test, y_train, y_test = train_test_split(X_binary, y, test_size=0.2, random_state=42)\n",
        "model = BernoulliNB()\n",
        "model.fit(X_train, y_train)\n",
        "\n",
        "y_pred = model.predict(X_test)\n",
        "print(\"BernoulliNB Accuracy:\", accuracy_score(y_test, y_pred))\n"
      ],
      "metadata": {
        "colab": {
          "base_uri": "https://localhost:8080/"
        },
        "id": "baFHtwYFUjvF",
        "outputId": "0115d573-2e8e-496e-ec05-e5b5aa461717"
      },
      "execution_count": 10,
      "outputs": [
        {
          "output_type": "stream",
          "name": "stdout",
          "text": [
            "BernoulliNB Accuracy: 0.715\n"
          ]
        }
      ]
    },
    {
      "cell_type": "code",
      "source": [
        "#29  Write a Python program to apply feature scaling before training an SVM model and compare results with\n",
        "#unscaled data\n",
        "from sklearn.preprocessing import StandardScaler\n",
        "from sklearn.datasets import load_iris\n",
        "from sklearn.svm import SVC\n",
        "from sklearn.model_selection import train_test_split\n",
        "from sklearn.metrics import accuracy_score\n",
        "\n",
        "data = load_iris()\n",
        "X, y = data.data, data.target\n",
        "X_train, X_test, y_train, y_test = train_test_split(X, y, test_size=0.3, random_state=42)\n",
        "\n",
        "# Without scaling\n",
        "model_unscaled = SVC()\n",
        "model_unscaled.fit(X_train, y_train)\n",
        "acc_unscaled = accuracy_score(y_test, model_unscaled.predict(X_test))\n",
        "\n",
        "# With scaling\n",
        "scaler = StandardScaler()\n",
        "X_train_scaled = scaler.fit_transform(X_train)\n",
        "X_test_scaled = scaler.transform(X_test)\n",
        "\n",
        "model_scaled = SVC()\n",
        "model_scaled.fit(X_train_scaled, y_train)\n",
        "acc_scaled = accuracy_score(y_test, model_scaled.predict(X_test_scaled))\n",
        "\n",
        "print(\"Accuracy without scaling:\", acc_unscaled)\n",
        "print(\"Accuracy with scaling:\", acc_scaled)\n"
      ],
      "metadata": {
        "colab": {
          "base_uri": "https://localhost:8080/"
        },
        "id": "O6HLoFdiUrbB",
        "outputId": "533d3355-4558-4bc4-e178-bb0cd40f6531"
      },
      "execution_count": 11,
      "outputs": [
        {
          "output_type": "stream",
          "name": "stdout",
          "text": [
            "Accuracy without scaling: 1.0\n",
            "Accuracy with scaling: 1.0\n"
          ]
        }
      ]
    },
    {
      "cell_type": "code",
      "source": [
        "#30 Write a Python program to train a Gaussian Naïve Bayes model and compare the predictions before and\n",
        "#after Laplace Smoothing\n",
        "from sklearn.naive_bayes import GaussianNB\n",
        "from sklearn.datasets import load_breast_cancer\n",
        "from sklearn.model_selection import train_test_split\n",
        "from sklearn.metrics import accuracy_score\n",
        "\n",
        "X, y = load_breast_cancer(return_X_y=True)\n",
        "X_train, X_test, y_train, y_test = train_test_split(X, y, test_size=0.3, random_state=42)\n",
        "\n",
        "# Standard GaussianNB\n",
        "gnb = GaussianNB()\n",
        "gnb.fit(X_train, y_train)\n",
        "pred1 = gnb.predict(X_test)\n",
        "\n",
        "# Laplace Smoothing Approximation (only works with discrete features typically, here we simulate via var_smoothing)\n",
        "gnb_smooth = GaussianNB(var_smoothing=1e-2)\n",
        "gnb_smooth.fit(X_train, y_train)\n",
        "pred2 = gnb_smooth.predict(X_test)\n",
        "\n",
        "print(\"Accuracy without Laplace:\", accuracy_score(y_test, pred1))\n",
        "print(\"Accuracy with Laplace smoothing:\", accuracy_score(y_test, pred2))\n"
      ],
      "metadata": {
        "colab": {
          "base_uri": "https://localhost:8080/"
        },
        "id": "uvn4CgkzU3Fn",
        "outputId": "d95c6a8c-2559-4c40-f004-f26f2b4a4d80"
      },
      "execution_count": 12,
      "outputs": [
        {
          "output_type": "stream",
          "name": "stdout",
          "text": [
            "Accuracy without Laplace: 0.9415204678362573\n",
            "Accuracy with Laplace smoothing: 0.935672514619883\n"
          ]
        }
      ]
    },
    {
      "cell_type": "code",
      "source": [
        "#31 Write a Python program to train an SVM Classifier and use GridSearchCV to tune the hyperparameters (C,\n",
        "#gamma, kernel)\n",
        "from sklearn.model_selection import GridSearchCV\n",
        "from sklearn.svm import SVC\n",
        "from sklearn.datasets import load_wine\n",
        "from sklearn.model_selection import train_test_split\n",
        "\n",
        "X, y = load_wine(return_X_y=True)\n",
        "X_train, X_test, y_train, y_test = train_test_split(X, y, test_size=0.3, random_state=42)\n",
        "\n",
        "param_grid = {\n",
        "    'C': [0.1, 1, 10],\n",
        "    'gamma': ['scale', 0.01, 0.1],\n",
        "    'kernel': ['linear', 'rbf']\n",
        "}\n",
        "\n",
        "grid = GridSearchCV(SVC(), param_grid, cv=5)\n",
        "grid.fit(X_train, y_train)\n",
        "\n",
        "print(\"Best Parameters:\", grid.best_params_)\n",
        "print(\"Best Cross-Validated Score:\", grid.best_score_)\n",
        "print(\"Test Accuracy:\", grid.score(X_test, y_test))\n"
      ],
      "metadata": {
        "colab": {
          "base_uri": "https://localhost:8080/"
        },
        "id": "O_Sl9Q9rU_kS",
        "outputId": "c99529cd-2225-418d-abd6-3db350455f56"
      },
      "execution_count": 13,
      "outputs": [
        {
          "output_type": "stream",
          "name": "stdout",
          "text": [
            "Best Parameters: {'C': 0.1, 'gamma': 'scale', 'kernel': 'linear'}\n",
            "Best Cross-Validated Score: 0.9276666666666668\n",
            "Test Accuracy: 1.0\n"
          ]
        }
      ]
    },
    {
      "cell_type": "code",
      "source": [
        "#32  Write a Python program to train an SVM Classifier on an imbalanced dataset and apply class weighting and\n",
        "#check it improve accuracy\n",
        "from sklearn.datasets import make_classification\n",
        "from sklearn.svm import SVC\n",
        "from sklearn.model_selection import train_test_split\n",
        "from sklearn.metrics import accuracy_score\n",
        "\n",
        "X, y = make_classification(n_samples=1000, n_classes=2, weights=[0.9, 0.1],\n",
        "                           n_informative=3, random_state=42)\n",
        "X_train, X_test, y_train, y_test = train_test_split(X, y, test_size=0.3, random_state=42)\n",
        "\n",
        "# Without class weight\n",
        "model1 = SVC()\n",
        "model1.fit(X_train, y_train)\n",
        "acc1 = accuracy_score(y_test, model1.predict(X_test))\n",
        "\n",
        "# With class weight\n",
        "model2 = SVC(class_weight='balanced')\n",
        "model2.fit(X_train, y_train)\n",
        "acc2 = accuracy_score(y_test, model2.predict(X_test))\n",
        "\n",
        "print(\"Accuracy without class weight:\", acc1)\n",
        "print(\"Accuracy with class weight:\", acc2)\n"
      ],
      "metadata": {
        "colab": {
          "base_uri": "https://localhost:8080/"
        },
        "id": "bSl3uUjqVIBg",
        "outputId": "53808b62-5242-400a-d40e-be2f859610f5"
      },
      "execution_count": 14,
      "outputs": [
        {
          "output_type": "stream",
          "name": "stdout",
          "text": [
            "Accuracy without class weight: 0.9766666666666667\n",
            "Accuracy with class weight: 0.94\n"
          ]
        }
      ]
    },
    {
      "cell_type": "code",
      "source": [
        "#33  Write a Python program to implement a Naïve Bayes classifier for spam detection using email data\n",
        "from sklearn.feature_extraction.text import CountVectorizer\n",
        "from sklearn.naive_bayes import MultinomialNB\n",
        "from sklearn.model_selection import train_test_split\n",
        "from sklearn.metrics import accuracy_score\n",
        "import pandas as pd\n",
        "\n",
        "# Example: Load sample spam dataset\n",
        "data = pd.read_csv(\"https://raw.githubusercontent.com/justmarkham/pycon-2016-tutorial/master/data/sms.tsv\",\n",
        "                   sep='\\t', names=['label', 'message'])\n",
        "\n",
        "X = data['message']\n",
        "y = data['label'].map({'ham': 0, 'spam': 1})\n",
        "\n",
        "X_train, X_test, y_train, y_test = train_test_split(X, y, test_size=0.2, random_state=42)\n",
        "\n",
        "vectorizer = CountVectorizer()\n",
        "X_train_vec = vectorizer.fit_transform(X_train)\n",
        "X_test_vec = vectorizer.transform(X_test)\n",
        "\n",
        "model = MultinomialNB()\n",
        "model.fit(X_train_vec, y_train)\n",
        "y_pred = model.predict(X_test_vec)\n",
        "\n",
        "print(\"Spam Detection Accuracy:\", accuracy_score(y_test, y_pred))\n"
      ],
      "metadata": {
        "colab": {
          "base_uri": "https://localhost:8080/"
        },
        "id": "jSGU36R3VQvM",
        "outputId": "c0763263-6507-4dab-f88b-04a16491db8f"
      },
      "execution_count": 15,
      "outputs": [
        {
          "output_type": "stream",
          "name": "stdout",
          "text": [
            "Spam Detection Accuracy: 0.9919282511210762\n"
          ]
        }
      ]
    },
    {
      "cell_type": "code",
      "source": [
        "#34 Write a Python program to train an SVM Classifier and a Naïve Bayes Classifier on the same dataset and\n",
        "#compare their accuracy\n",
        "from sklearn.datasets import load_digits\n",
        "from sklearn.model_selection import train_test_split\n",
        "from sklearn.naive_bayes import GaussianNB\n",
        "from sklearn.svm import SVC\n",
        "\n",
        "X, y = load_digits(return_X_y=True)\n",
        "X_train, X_test, y_train, y_test = train_test_split(X, y, test_size=0.3, random_state=42)\n",
        "\n",
        "gnb = GaussianNB()\n",
        "gnb.fit(X_train, y_train)\n",
        "acc_gnb = gnb.score(X_test, y_test)\n",
        "\n",
        "svm = SVC()\n",
        "svm.fit(X_train, y_train)\n",
        "acc_svm = svm.score(X_test, y_test)\n",
        "\n",
        "print(\"GaussianNB Accuracy:\", acc_gnb)\n",
        "print(\"SVM Accuracy:\", acc_svm)\n"
      ],
      "metadata": {
        "colab": {
          "base_uri": "https://localhost:8080/"
        },
        "id": "9WvSC1I1VdBG",
        "outputId": "98f9cf72-968e-4f5c-f58b-0d789389a85b"
      },
      "execution_count": 16,
      "outputs": [
        {
          "output_type": "stream",
          "name": "stdout",
          "text": [
            "GaussianNB Accuracy: 0.8518518518518519\n",
            "SVM Accuracy: 0.987037037037037\n"
          ]
        }
      ]
    },
    {
      "cell_type": "code",
      "source": [
        "\n",
        "# With feature selection\n",
        "#35 Write a Python program to perform feature selection before training a Naïve Bayes classifier and compare\n",
        "#results=\n",
        "from sklearn.feature_selection import SelectKBest, chi2\n",
        "from sklearn.naive_bayes import MultinomialNB\n",
        "from sklearn.datasets import fetch_20newsgroups\n",
        "from sklearn.feature_extraction.text import CountVectorizer\n",
        "from sklearn.model_selection import train_test_split\n",
        "from sklearn.pipeline import Pipeline\n",
        "\n",
        "data = fetch_20newsgroups(subset='train', categories=['sci.med', 'sci.space'])\n",
        "X, y = data.data, data.target\n",
        "\n",
        "X_train, X_test, y_train, y_test = train_test_split(X, y, test_size=0.2, random_state=42)\n",
        "\n",
        "# Without feature selection\n",
        "pipe_no_fs = Pipeline([\n",
        "    ('vect', CountVectorizer()),\n",
        "    ('clf', MultinomialNB())\n",
        "])\n",
        "pipe_no_fs.fit(X_train, y_train)\n",
        "acc_no_fs = pipe_no_fs.score(X_test, y_test)\n",
        "\n",
        "# With feature selection\n",
        "pipe_fs = Pipeline([\n",
        "    ('vect', CountVectorizer()),\n",
        "    ('select', SelectKBest(chi2, k=1000)),  # Added a value for k\n",
        "    ('clf', MultinomialNB())\n",
        "])\n",
        "pipe_fs.fit(X_train, y_train)\n",
        "acc_fs = pipe_fs.score(X_test, y_test)\n",
        "\n",
        "print(f\"Accuracy without feature selection: {acc_no_fs:.4f}\")\n",
        "print(f\"Accuracy with feature selection: {acc_fs:.4f}\")"
      ],
      "metadata": {
        "colab": {
          "base_uri": "https://localhost:8080/"
        },
        "id": "cCLDyFP6VoJM",
        "outputId": "1e2e8748-8d36-41bc-fdad-5224812796df"
      },
      "execution_count": 18,
      "outputs": [
        {
          "output_type": "stream",
          "name": "stdout",
          "text": [
            "Accuracy without feature selection: 0.9874\n",
            "Accuracy with feature selection: 0.9706\n"
          ]
        }
      ]
    },
    {
      "cell_type": "code",
      "source": [
        "#36  Write a Python program to train an SVM Classifier using One-vs-Rest (OvR) and One-vs-One (OvO)\n",
        "#strategies on the Wine dataset and compare their accuracy=\n",
        "from sklearn.datasets import load_wine\n",
        "from sklearn.model_selection import train_test_split\n",
        "from sklearn.svm import SVC\n",
        "from sklearn.multiclass import OneVsRestClassifier, OneVsOneClassifier\n",
        "from sklearn.metrics import accuracy_score\n",
        "\n",
        "# Load Wine dataset\n",
        "X, y = load_wine(return_X_y=True)\n",
        "\n",
        "# Split the data\n",
        "X_train, X_test, y_train, y_test = train_test_split(X, y, test_size=0.3, random_state=42)\n",
        "\n",
        "# One-vs-Rest (OvR)\n",
        "ovr_model = OneVsRestClassifier(SVC(kernel='rbf'))\n",
        "ovr_model.fit(X_train, y_train)\n",
        "ovr_preds = ovr_model.predict(X_test)\n",
        "ovr_accuracy = accuracy_score(y_test, ovr_preds)\n",
        "\n",
        "# One-vs-One (OvO)\n",
        "ovo_model = OneVsOneClassifier(SVC(kernel='rbf'))\n",
        "ovo_model.fit(X_train, y_train)\n",
        "ovo_preds = ovo_model.predict(X_test)\n",
        "ovo_accuracy = accuracy_score(y_test, ovo_preds)\n",
        "\n",
        "# Print comparison\n",
        "print(\"One-vs-Rest SVM Accuracy:\", ovr_accuracy)\n",
        "print(\"One-vs-One  SVM Accuracy:\", ovo_accuracy)\n"
      ],
      "metadata": {
        "colab": {
          "base_uri": "https://localhost:8080/"
        },
        "id": "Su44kdsBV7do",
        "outputId": "1a8ef90d-d779-4327-9d2c-fcc2e873d91b"
      },
      "execution_count": 19,
      "outputs": [
        {
          "output_type": "stream",
          "name": "stdout",
          "text": [
            "One-vs-Rest SVM Accuracy: 0.7222222222222222\n",
            "One-vs-One  SVM Accuracy: 0.7962962962962963\n"
          ]
        }
      ]
    },
    {
      "cell_type": "code",
      "source": [
        "#37  Write a Python program to train an SVM Classifier using Linear, Polynomial, and RBF kernels on the Breast\n",
        "#Cancer dataset and compare their accuracy\n",
        "\n",
        "from sklearn.datasets import load_breast_cancer\n",
        "from sklearn.model_selection import train_test_split\n",
        "from sklearn.svm import SVC\n",
        "from sklearn.metrics import accuracy_score\n",
        "\n",
        "X, y = load_breast_cancer(return_X_y=True)\n",
        "X_train, X_test, y_train, y_test = train_test_split(X, y, test_size=0.3, random_state=42)\n",
        "\n",
        "kernels = ['linear', 'poly', 'rbf']\n",
        "for kernel in kernels:\n",
        "    model = SVC(kernel=kernel)\n",
        "    model.fit(X_train, y_train)\n",
        "    acc = accuracy_score(y_test, model.predict(X_test))\n",
        "    print(f\"SVM with {kernel} kernel - Accuracy: {acc:.4f}\")\n"
      ],
      "metadata": {
        "colab": {
          "base_uri": "https://localhost:8080/"
        },
        "id": "VToxvZzvWXF5",
        "outputId": "392c2ad6-1cdc-45b8-f436-8bbe00032ccd"
      },
      "execution_count": 20,
      "outputs": [
        {
          "output_type": "stream",
          "name": "stdout",
          "text": [
            "SVM with linear kernel - Accuracy: 0.9649\n",
            "SVM with poly kernel - Accuracy: 0.9415\n",
            "SVM with rbf kernel - Accuracy: 0.9357\n"
          ]
        }
      ]
    },
    {
      "cell_type": "code",
      "source": [
        "#38  Write a Python program to train an SVM Classifier using Stratified K-Fold Cross-Validation and compute the\n",
        "#average accuracy=\n",
        "from sklearn.model_selection import StratifiedKFold, cross_val_score\n",
        "from sklearn.svm import SVC\n",
        "from sklearn.datasets import load_breast_cancer\n",
        "\n",
        "X, y = load_breast_cancer(return_X_y=True)\n",
        "model = SVC(kernel='rbf')\n",
        "\n",
        "skf = StratifiedKFold(n_splits=5, shuffle=True, random_state=42)\n",
        "scores = cross_val_score(model, X, y, cv=skf)\n",
        "\n",
        "print(\"Stratified K-Fold Cross-Validation Scores:\", scores)\n",
        "print(\"Average Accuracy:\", scores.mean())\n"
      ],
      "metadata": {
        "colab": {
          "base_uri": "https://localhost:8080/"
        },
        "id": "Oep-Jc-mWmNA",
        "outputId": "93ccc5ef-5873-4031-885c-2ae44b6864bd"
      },
      "execution_count": 21,
      "outputs": [
        {
          "output_type": "stream",
          "name": "stdout",
          "text": [
            "Stratified K-Fold Cross-Validation Scores: [0.93859649 0.87719298 0.89473684 0.93859649 0.92035398]\n",
            "Average Accuracy: 0.9138953578636858\n"
          ]
        }
      ]
    },
    {
      "cell_type": "code",
      "source": [
        "#39  Write a Python program to train a Naïve Bayes classifier using different prior probabilities and compare\n",
        "#performance=\n",
        "from sklearn.datasets import load_breast_cancer\n",
        "from sklearn.naive_bayes import GaussianNB\n",
        "from sklearn.model_selection import train_test_split\n",
        "from sklearn.metrics import accuracy_score\n",
        "\n",
        "X, y = load_breast_cancer(return_X_y=True)\n",
        "X_train, X_test, y_train, y_test = train_test_split(X, y, test_size=0.3, random_state=42)\n",
        "\n",
        "priors_list = [[0.9, 0.1], [0.5, 0.5], [0.1, 0.9]]\n",
        "\n",
        "for priors in priors_list:\n",
        "    model = GaussianNB(priors=priors)\n",
        "    model.fit(X_train, y_train)\n",
        "    acc = accuracy_score(y_test, model.predict(X_test))\n",
        "    print(f\"Priors {priors} - Accuracy: {acc:.4f}\")\n"
      ],
      "metadata": {
        "colab": {
          "base_uri": "https://localhost:8080/"
        },
        "id": "BRfV561zWwYt",
        "outputId": "75e14428-9659-4850-a4a7-1de900f241c4"
      },
      "execution_count": 22,
      "outputs": [
        {
          "output_type": "stream",
          "name": "stdout",
          "text": [
            "Priors [0.9, 0.1] - Accuracy: 0.9357\n",
            "Priors [0.5, 0.5] - Accuracy: 0.9415\n",
            "Priors [0.1, 0.9] - Accuracy: 0.9415\n"
          ]
        }
      ]
    },
    {
      "cell_type": "code",
      "source": [
        "#40  Write a Python program to perform Recursive Feature Elimination (RFE) before training an SVM Classifier and\n",
        "#compare accuracy\n",
        "from sklearn.feature_selection import RFE\n",
        "from sklearn.svm import SVC\n",
        "from sklearn.datasets import load_wine\n",
        "from sklearn.model_selection import train_test_split\n",
        "from sklearn.metrics import accuracy_score\n",
        "\n",
        "X, y = load_wine(return_X_y=True)\n",
        "X_train, X_test, y_train, y_test = train_test_split(X, y, test_size=0.3, random_state=42)\n",
        "\n",
        "svm = SVC(kernel='linear')\n",
        "rfe = RFE(svm, n_features_to_select=5)\n",
        "rfe.fit(X_train, y_train)\n",
        "\n",
        "model = SVC(kernel='linear')\n",
        "model.fit(rfe.transform(X_train), y_train)\n",
        "acc = accuracy_score(y_test, model.predict(rfe.transform(X_test)))\n",
        "\n",
        "print(\"Accuracy after RFE (5 features):\", acc)\n"
      ],
      "metadata": {
        "colab": {
          "base_uri": "https://localhost:8080/"
        },
        "id": "XggXjlsCW6qP",
        "outputId": "3aab6c62-0897-4710-83f0-76a809f46c78"
      },
      "execution_count": 23,
      "outputs": [
        {
          "output_type": "stream",
          "name": "stdout",
          "text": [
            "Accuracy after RFE (5 features): 0.9629629629629629\n"
          ]
        }
      ]
    },
    {
      "cell_type": "code",
      "source": [
        "#41  Write a Python program to train an SVM Classifier and evaluate its performance using Precision, Recall, and\n",
        "#F1-Score instead of accuracy\n",
        "from sklearn.metrics import precision_score, recall_score, f1_score\n",
        "from sklearn.datasets import load_breast_cancer\n",
        "from sklearn.model_selection import train_test_split\n",
        "from sklearn.svm import SVC\n",
        "\n",
        "X, y = load_breast_cancer(return_X_y=True)\n",
        "X_train, X_test, y_train, y_test = train_test_split(X, y, test_size=0.3, random_state=42)\n",
        "\n",
        "model = SVC()\n",
        "model.fit(X_train, y_train)\n",
        "y_pred = model.predict(X_test)\n",
        "\n",
        "print(\"Precision:\", precision_score(y_test, y_pred))\n",
        "print(\"Recall:\", recall_score(y_test, y_pred))\n",
        "print(\"F1 Score:\", f1_score(y_test, y_pred))\n"
      ],
      "metadata": {
        "colab": {
          "base_uri": "https://localhost:8080/"
        },
        "id": "4SKxb8vMXFgr",
        "outputId": "be306f6d-bedb-4628-a41c-e139fd1f694d"
      },
      "execution_count": 24,
      "outputs": [
        {
          "output_type": "stream",
          "name": "stdout",
          "text": [
            "Precision: 0.907563025210084\n",
            "Recall: 1.0\n",
            "F1 Score: 0.9515418502202643\n"
          ]
        }
      ]
    },
    {
      "cell_type": "code",
      "source": [
        "#42  Write a Python program to train a Naïve Bayes Classifier and evaluate its performance using Log Loss\n",
        "#(Cross-Entropy Loss)\n",
        "from sklearn.metrics import log_loss\n",
        "from sklearn.datasets import load_breast_cancer\n",
        "from sklearn.model_selection import train_test_split\n",
        "from sklearn.naive_bayes import GaussianNB\n",
        "\n",
        "X, y = load_breast_cancer(return_X_y=True)\n",
        "X_train, X_test, y_train, y_test = train_test_split(X, y, test_size=0.3, random_state=42)\n",
        "\n",
        "model = GaussianNB()\n",
        "model.fit(X_train, y_train)\n",
        "y_proba = model.predict_proba(X_test)\n",
        "\n",
        "print(\"Log Loss:\", log_loss(y_test, y_proba))\n"
      ],
      "metadata": {
        "colab": {
          "base_uri": "https://localhost:8080/"
        },
        "id": "ETQz-4WeXPdR",
        "outputId": "6fa47c1c-f255-4409-efc7-c6ac5692c0ae"
      },
      "execution_count": 25,
      "outputs": [
        {
          "output_type": "stream",
          "name": "stdout",
          "text": [
            "Log Loss: 0.48986013210958873\n"
          ]
        }
      ]
    },
    {
      "cell_type": "code",
      "source": [
        "#43  Write a Python program to train an SVM Classifier and visualize the Confusion Matrix using seaborn=\n",
        "import seaborn as sns\n",
        "import matplotlib.pyplot as plt\n",
        "from sklearn.metrics import confusion_matrix\n",
        "from sklearn.datasets import load_breast_cancer\n",
        "from sklearn.model_selection import train_test_split\n",
        "from sklearn.svm import SVC\n",
        "\n",
        "X, y = load_breast_cancer(return_X_y=True)\n",
        "X_train, X_test, y_train, y_test = train_test_split(X, y, test_size=0.3, random_state=42)\n",
        "\n",
        "model = SVC()\n",
        "model.fit(X_train, y_train)\n",
        "y_pred = model.predict(X_test)\n",
        "\n",
        "cm = confusion_matrix(y_test, y_pred)\n",
        "sns.heatmap(cm, annot=True, fmt='d', cmap='Blues')\n",
        "plt.title(\"SVM Confusion Matrix\")\n",
        "plt.xlabel(\"Predicted\")\n",
        "plt.ylabel(\"Actual\")\n",
        "plt.show()\n"
      ],
      "metadata": {
        "colab": {
          "base_uri": "https://localhost:8080/",
          "height": 472
        },
        "id": "DL-ACiZMXYlY",
        "outputId": "a0185f05-abbe-4057-e3c1-2a083f1e546b"
      },
      "execution_count": 26,
      "outputs": [
        {
          "output_type": "display_data",
          "data": {
            "text/plain": [
              "<Figure size 640x480 with 2 Axes>"
            ],
            "image/png": "[encoded data removed]"
          },
          "metadata": {}
        }
      ]
    },
    {
      "cell_type": "code",
      "source": [
        "#44  Write a Python program to train an SVM Regressor (SVR) and evaluate its performance using Mean Absolute\n",
        "#Error (MAE) instead of MSE\n",
        "from sklearn.svm import SVR\n",
        "from sklearn.datasets import fetch_california_housing\n",
        "from sklearn.model_selection import train_test_split\n",
        "from sklearn.metrics import mean_absolute_error\n",
        "\n",
        "X, y = fetch_california_housing(return_X_y=True)\n",
        "X_train, X_test, y_train, y_test = train_test_split(X, y, test_size=0.2, random_state=42)\n",
        "\n",
        "model = SVR()\n",
        "model.fit(X_train, y_train)\n",
        "y_pred = model.predict(X_test)\n",
        "\n",
        "print(\"Mean Absolute Error (MAE):\", mean_absolute_error(y_test, y_pred))\n"
      ],
      "metadata": {
        "colab": {
          "base_uri": "https://localhost:8080/"
        },
        "id": "KTk9f1S4XgWv",
        "outputId": "fd038c09-52cd-4d58-aa07-4675fb4e7053"
      },
      "execution_count": 27,
      "outputs": [
        {
          "output_type": "stream",
          "name": "stdout",
          "text": [
            "Mean Absolute Error (MAE): 0.8599506583445761\n"
          ]
        }
      ]
    },
    {
      "cell_type": "code",
      "source": [
        "#45 Write a Python program to train a Naïve Bayes classifier and evaluate its performance using the ROC-AUC score=\n",
        "from sklearn.datasets import load_breast_cancer\n",
        "from sklearn.naive_bayes import GaussianNB\n",
        "from sklearn.metrics import roc_auc_score\n",
        "from sklearn.model_selection import train_test_split\n",
        "\n",
        "X, y = load_breast_cancer(return_X_y=True)\n",
        "X_train, X_test, y_train, y_test = train_test_split(X, y, test_size=0.3, random_state=42)\n",
        "\n",
        "model = GaussianNB()\n",
        "model.fit(X_train, y_train)\n",
        "y_proba = model.predict_proba(X_test)[:, 1]\n",
        "\n",
        "print(\"ROC-AUC Score:\", roc_auc_score(y_test, y_proba))\n"
      ],
      "metadata": {
        "colab": {
          "base_uri": "https://localhost:8080/"
        },
        "id": "bC4c7Lw9XsSt",
        "outputId": "38770813-ba76-4d60-96de-f8bae40681e0"
      },
      "execution_count": 28,
      "outputs": [
        {
          "output_type": "stream",
          "name": "stdout",
          "text": [
            "ROC-AUC Score: 0.9922104644326867\n"
          ]
        }
      ]
    },
    {
      "cell_type": "code",
      "source": [
        "#46  Write a Python program to train an SVM Classifier and visualize the Precision-Recall Curve.\n",
        "from sklearn.datasets import load_breast_cancer\n",
        "from sklearn.svm import SVC\n",
        "from sklearn.metrics import precision_recall_curve, average_precision_score\n",
        "from sklearn.model_selection import train_test_split\n",
        "import matplotlib.pyplot as plt\n",
        "\n",
        "X, y = load_breast_cancer(return_X_y=True)\n",
        "X_train, X_test, y_train, y_test = train_test_split(X, y, test_size=0.3, random_state=42)\n",
        "\n",
        "model = SVC(probability=True)\n",
        "model.fit(X_train, y_train)\n",
        "y_scores = model.predict_proba(X_test)[:, 1]\n",
        "\n",
        "precision, recall, _ = precision_recall_curve(y_test, y_scores)\n",
        "avg_precision = average_precision_score(y_test, y_scores)\n",
        "\n",
        "plt.plot(recall, precision, label=f'Avg Precision = {avg_precision:.2f}')\n",
        "plt.xlabel('Recall')\n",
        "plt.ylabel('Precision')\n",
        "plt.title('Precision-Recall Curve')\n",
        "plt.legend()\n",
        "plt.grid(True)\n",
        "plt.show()\n"
      ],
      "metadata": {
        "colab": {
          "base_uri": "https://localhost:8080/",
          "height": 472
        },
        "id": "m61hzfHmX3zo",
        "outputId": "159b0c43-362a-4c01-d586-8e8dccea6b87"
      },
      "execution_count": 29,
      "outputs": [
        {
          "output_type": "display_data",
          "data": {
            "text/plain": [
              "<Figure size 640x480 with 1 Axes>"
            ],
            "image/png": "[encoded data removed]"
          },
          "metadata": {}
        }
      ]
    }
  ]
}